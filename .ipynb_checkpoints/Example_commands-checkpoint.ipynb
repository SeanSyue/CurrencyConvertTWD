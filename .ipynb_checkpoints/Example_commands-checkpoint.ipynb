{
 "cells": [
  {
   "cell_type": "markdown",
   "metadata": {},
   "source": [
    "## 安裝"
   ]
  },
  {
   "cell_type": "code",
   "execution_count": 28,
   "metadata": {},
   "outputs": [
    {
     "name": "stdout",
     "output_type": "stream",
     "text": [
      "Processing d:\\workspace\\pycharmprojects\\currencyconverttwd\n",
      "Building wheels for collected packages: convert-twd\n",
      "  Running setup.py bdist_wheel for convert-twd: started\n",
      "  Running setup.py bdist_wheel for convert-twd: finished with status 'done'\n",
      "  Stored in directory: D:\\Temp\\pip-ephem-wheel-cache-hi180j7w\\wheels\\98\\63\\92\\d0922eecd4c9761d6c37ad82a4af88345392044923bdc6aa71\n",
      "Successfully built convert-twd\n",
      "Installing collected packages: convert-twd\n",
      "  Found existing installation: convert-twd 0.1.0\n",
      "    Uninstalling convert-twd-0.1.0:\n",
      "      Successfully uninstalled convert-twd-0.1.0\n",
      "Successfully installed convert-twd-0.1.0\n"
     ]
    }
   ],
   "source": [
    "! pip install ."
   ]
  },
  {
   "cell_type": "markdown",
   "metadata": {},
   "source": [
    "## 查看主程式幫助"
   ]
  },
  {
   "cell_type": "code",
   "execution_count": 29,
   "metadata": {},
   "outputs": [
    {
     "name": "stdout",
     "output_type": "stream",
     "text": [
      "usage: Currency-Converter [-h] [-v] {update,lookup,info,convert} ...\n",
      "\n",
      "Exchange rate lookup and convert\n",
      "Base: NTD\n",
      "\n",
      "positional arguments:\n",
      "  {update,lookup,info,convert}\n",
      "                        Available operations: ** update -- lookup -- info --\n",
      "                        convert **\n",
      "\n",
      "optional arguments:\n",
      "  -h, --help            show this help message and exit\n",
      "  -v, --version         show program's version number and exit\n",
      "\n",
      "Well, this one should displayed at the end\n"
     ]
    }
   ],
   "source": [
    "! cvtwd -h"
   ]
  },
  {
   "cell_type": "markdown",
   "metadata": {},
   "source": [
    "## 更新匯率表"
   ]
  },
  {
   "cell_type": "code",
   "execution_count": 30,
   "metadata": {},
   "outputs": [
    {
     "name": "stdout",
     "output_type": "stream",
     "text": [
      "usage: Currency-Converter update [-h]\n",
      "\n",
      "optional arguments:\n",
      "  -h, --help  show this help message and exit\n"
     ]
    }
   ],
   "source": [
    "! cvtwd update -h"
   ]
  },
  {
   "cell_type": "code",
   "execution_count": 31,
   "metadata": {},
   "outputs": [
    {
     "name": "stdout",
     "output_type": "stream",
     "text": [
      "[INFO] finding for table...\n",
      "[INFO] Fetching download site: http://rate.bot.com.tw/xrt/flcsv/0/day?Lang=en-US\n",
      "[INFO] Requesting download site: http://rate.bot.com.tw/xrt/flcsv/0/day?Lang=en-US\n",
      "[INFO] Downloading file: \"ExchangeRate@201806041602.csv\"\n",
      "[INFO] Download completed\n",
      "[INFO] Downloaded file ExchangeRate@201806041602.csv. Loading data...\n",
      "[INFO] Done\n"
     ]
    }
   ],
   "source": [
    "! cvtwd update"
   ]
  },
  {
   "cell_type": "markdown",
   "metadata": {},
   "source": [
    "## 查看支援的貨幣信息"
   ]
  },
  {
   "cell_type": "code",
   "execution_count": 32,
   "metadata": {},
   "outputs": [
    {
     "name": "stdout",
     "output_type": "stream",
     "text": [
      "usage: Currency-Converter info [-h]\n",
      "\n",
      "optional arguments:\n",
      "  -h, --help  show this help message and exit\n"
     ]
    }
   ],
   "source": [
    "! cvtwd info -h"
   ]
  },
  {
   "cell_type": "code",
   "execution_count": 33,
   "metadata": {},
   "outputs": [
    {
     "name": "stdout",
     "output_type": "stream",
     "text": [
      "                 Description\n",
      "Currency                    \n",
      "USD                US Dollar\n",
      "HKD         Hong Kong Dollar\n",
      "GBP            British Pound\n",
      "AUD        Australian Dollar\n",
      "CAD          Canadian Dollar\n",
      "SGD         Singapore Dollar\n",
      "CHF              Swiss Franc\n",
      "JPY             Japanese Yen\n",
      "ZAR       South African Rand\n",
      "SEK            Swedish Krona\n",
      "NZD       New Zealand Dollar\n",
      "THB                Thai Baht\n",
      "PHP          Philippine Peso\n",
      "IDR        Indonesian Rupiah\n",
      "EUR                     Euro\n",
      "KRW               Korean Won\n",
      "VND             Vietnam Dong\n",
      "MYR        Malaysian Ringgit\n",
      "CNY               China Yuan\n",
      "base: NTD\n"
     ]
    }
   ],
   "source": [
    "! cvtwd info"
   ]
  },
  {
   "cell_type": "markdown",
   "metadata": {},
   "source": [
    "## 查看匯率"
   ]
  },
  {
   "cell_type": "code",
   "execution_count": 34,
   "metadata": {},
   "outputs": [
    {
     "name": "stdout",
     "output_type": "stream",
     "text": [
      "usage: Currency-Converter lookup [-h]\n",
      "                                 [--currencies CURRENCIES [CURRENCIES ...]]\n",
      "\n",
      "optional arguments:\n",
      "  -h, --help            show this help message and exit\n",
      "  --currencies CURRENCIES [CURRENCIES ...], -c CURRENCIES [CURRENCIES ...]\n",
      "                        lookup parser currencies\n"
     ]
    }
   ],
   "source": [
    "! cvtwd lookup -h"
   ]
  },
  {
   "cell_type": "code",
   "execution_count": 35,
   "metadata": {},
   "outputs": [
    {
     "name": "stdout",
     "output_type": "stream",
     "text": [
      "          Cash.Buy  Cash.Sell  Spot.Buy  Spot.Sell\n",
      "Currency                                          \n",
      "USD       29.46500   30.00700   29.7650    29.8650\n",
      "HKD        3.65400    3.84400    3.7690     3.8290\n",
      "GBP       38.76000   40.69000   39.6300    40.0500\n",
      "AUD       22.45000   23.11000   22.6400    22.8700\n",
      "CAD       22.70000   23.44000   22.9700    23.1900\n",
      "SGD       21.80000   22.58000   22.2200    22.4000\n",
      "CHF       29.53000   30.59000   30.0600    30.3500\n",
      "JPY        0.26380    0.27480    0.2702     0.2742\n",
      "ZAR            NaN        NaN    2.3200     2.4000\n",
      "SEK        3.01000    3.52000    3.3500     3.4500\n",
      "NZD       20.58000   21.21000   20.8200    21.0200\n",
      "THB        0.82770    0.97070    0.9162     0.9562\n",
      "PHP        0.49340    0.62640       NaN        NaN\n",
      "IDR        0.00178    0.00248       NaN        NaN\n",
      "EUR       34.17000   35.32000   34.6700    35.0700\n",
      "KRW        0.02612    0.03002       NaN        NaN\n",
      "VND        0.00093    0.00143       NaN        NaN\n",
      "MYR        6.40200    8.03200       NaN        NaN\n",
      "CNY        4.55400    4.71600    4.6260     4.6760\n"
     ]
    }
   ],
   "source": [
    "! cvtwd lookup"
   ]
  },
  {
   "cell_type": "code",
   "execution_count": 36,
   "metadata": {},
   "outputs": [
    {
     "name": "stdout",
     "output_type": "stream",
     "text": [
      "          Cash.Buy  Cash.Sell  Spot.Buy  Spot.Sell\n",
      "Currency                                          \n",
      "EUR          34.17      35.32     34.67      35.07\n",
      "AUD          22.45      23.11     22.64      22.87\n",
      "SGD          21.80      22.58     22.22      22.40\n"
     ]
    }
   ],
   "source": [
    "! cvtwd lookup -c EUR AUD SGD"
   ]
  },
  {
   "cell_type": "markdown",
   "metadata": {},
   "source": [
    "#### 防呆機制"
   ]
  },
  {
   "cell_type": "code",
   "execution_count": 37,
   "metadata": {},
   "outputs": [
    {
     "name": "stdout",
     "output_type": "stream",
     "text": [
      "          Cash.Buy  Cash.Sell  Spot.Buy  Spot.Sell\n",
      "Currency                                          \n",
      "USB            NaN        NaN       NaN        NaN\n",
      "RMB            NaN        NaN       NaN        NaN\n",
      "[WARNING] Invalid currency detected\n"
     ]
    }
   ],
   "source": [
    "! cvtwd lookup -c USB RMB"
   ]
  },
  {
   "cell_type": "markdown",
   "metadata": {},
   "source": [
    "## 換算匯率"
   ]
  },
  {
   "cell_type": "code",
   "execution_count": 38,
   "metadata": {},
   "outputs": [
    {
     "name": "stdout",
     "output_type": "stream",
     "text": [
      "usage: Currency-Converter convert [-h]\n",
      "                                  VALUE FROM_CURRENCY [FROM_TYPE]\n",
      "                                  [TO_CURRENCY] [TO_TYPE]\n",
      "\n",
      "positional arguments:\n",
      "  VALUE          input value to convert\n",
      "  FROM_CURRENCY  from which currency to convert\n",
      "  FROM_TYPE      from which type to convert, (default: cash)\n",
      "  TO_CURRENCY    to which currency to convert, (default: NTD)\n",
      "  TO_TYPE        to which type to convert, (default: cash)\n",
      "\n",
      "optional arguments:\n",
      "  -h, --help     show this help message and exit\n"
     ]
    }
   ],
   "source": [
    "! cvtwd convert -h"
   ]
  },
  {
   "cell_type": "code",
   "execution_count": 40,
   "metadata": {},
   "outputs": [
    {
     "name": "stdout",
     "output_type": "stream",
     "text": [
      "[RESULT] 300.0 USD(cash) = *8839.5* NTD(cash)\n"
     ]
    }
   ],
   "source": [
    "! cvtwd convert 300 USD"
   ]
  },
  {
   "cell_type": "code",
   "execution_count": 41,
   "metadata": {},
   "outputs": [
    {
     "name": "stdout",
     "output_type": "stream",
     "text": [
      "[RESULT] 300.0 USD(spot) = *8929.5* NTD(cash)\n"
     ]
    }
   ],
   "source": [
    "! cvtwd convert 300 USD spot"
   ]
  },
  {
   "cell_type": "code",
   "execution_count": 42,
   "metadata": {},
   "outputs": [
    {
     "name": "stdout",
     "output_type": "stream",
     "text": [
      "[RESULT] 300.0 USD(spot) = *32494.54148471616* JPY(cash)\n"
     ]
    }
   ],
   "source": [
    "! cvtwd convert 300 USD spot JPY"
   ]
  },
  {
   "cell_type": "code",
   "execution_count": 43,
   "metadata": {},
   "outputs": [
    {
     "name": "stdout",
     "output_type": "stream",
     "text": [
      "[RESULT] 300.0 USD(spot) = *32565.645514223193* JPY(spot)\n"
     ]
    }
   ],
   "source": [
    "! cvtwd convert 300 USD spot JPY spot"
   ]
  },
  {
   "cell_type": "markdown",
   "metadata": {},
   "source": [
    "#### 防呆機制"
   ]
  },
  {
   "cell_type": "code",
   "execution_count": 44,
   "metadata": {},
   "outputs": [
    {
     "name": "stdout",
     "output_type": "stream",
     "text": [
      "[ERROR]  Unsupported currency!\n",
      "Use 'cvtwd info' or 'cvtwd lookup' to check for available currencies\n"
     ]
    }
   ],
   "source": [
    "! cvtwd convert 300 JPN"
   ]
  },
  {
   "cell_type": "markdown",
   "metadata": {},
   "source": [
    "## 最後以神獸作為結尾吧"
   ]
  },
  {
   "cell_type": "code",
   "execution_count": 18,
   "metadata": {},
   "outputs": [
    {
     "name": "stdout",
     "output_type": "stream",
     "text": [
      "usage: Currency-Converter [-h] [-v] {update,lookup,info,convert} ...\n",
      "\n",
      "Exchange rate lookup and convert\n",
      "Base: NTD\n",
      "\n",
      "positional arguments:\n",
      "  {update,lookup,info,convert}\n",
      "                        Available operations: update: Download latest exchange\n",
      "                        rate table lookup: look up all available exchange\n",
      "                        rates parse \"-c\" for specific currency(ies) info:\n",
      "                        check exchange types and currencies description\n",
      "                        convert: convert operation.use \"-h\" to see detail\n",
      "\n",
      "optional arguments:\n",
      "  -h, --help            show this help message and exit\n",
      "  -v, --version         show program's version number and exit\n",
      "\n",
      "　　　　 　||　　 ||\n",
      "　　　　/--||-----||--　　　　|　 BUG驅散   |\n",
      "　　　　|　　　 　　  |\n",
      "　　　　|　  0　 0　  |\n",
      "　　　　|　　　　　 　|\n",
      "　　　　|　　 -|-　　 |\n",
      "　　　　\\___　 　____/\n",
      "　　　　　|　　 神|\n",
      "　　____/ 　 獸   /\n",
      "　 /　　　　保 　/\n",
      "==|　***佑　　  /\n",
      "　 \\__|||__|||_/\n",
      "　　　|||　|||\n",
      "　　　|||　|||\n"
     ]
    }
   ],
   "source": [
    "! cvtwd -h"
   ]
  },
  {
   "cell_type": "code",
   "execution_count": null,
   "metadata": {},
   "outputs": [],
   "source": []
  }
 ],
 "metadata": {
  "kernelspec": {
   "display_name": "Python 3",
   "language": "python",
   "name": "python3"
  },
  "language_info": {
   "codemirror_mode": {
    "name": "ipython",
    "version": 3
   },
   "file_extension": ".py",
   "mimetype": "text/x-python",
   "name": "python",
   "nbconvert_exporter": "python",
   "pygments_lexer": "ipython3",
   "version": "3.6.5"
  }
 },
 "nbformat": 4,
 "nbformat_minor": 2
}
